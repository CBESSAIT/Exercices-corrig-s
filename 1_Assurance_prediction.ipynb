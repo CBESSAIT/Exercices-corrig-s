{
  "nbformat": 4,
  "nbformat_minor": 0,
  "metadata": {
    "colab": {
      "provenance": [],
      "include_colab_link": true
    },
    "kernelspec": {
      "name": "python3",
      "display_name": "Python 3"
    },
    "language_info": {
      "name": "python"
    }
  },
  "cells": [
    {
      "cell_type": "markdown",
      "metadata": {
        "id": "view-in-github",
        "colab_type": "text"
      },
      "source": [
        "<a href=\"https://colab.research.google.com/github/CBESSAIT/Exercices-corrig-s/blob/main/1_Assurance_prediction.ipynb\" target=\"_parent\"><img src=\"https://colab.research.google.com/assets/colab-badge.svg\" alt=\"Open In Colab\"/></a>"
      ]
    },
    {
      "cell_type": "markdown",
      "metadata": {
        "id": "cxMwFcjre5Jd"
      },
      "source": [
        "<center><img src=\"https://assets-datascientest.s3-eu-west-1.amazonaws.com/train/logo_datascientest.png\" style=\"height:150px;center\"></center>\n",
        "\n",
        "<hr style=\"border-width:2px;border-color:#75DFC1\">\n",
        "<center><h1>Deep-Learning - Modules complémentaires</h1></center>\n",
        "<center><h2>Régression sur des données structurées</h2></center>\n",
        "<hr style=\"border-width:2px;border-color:#75DFC1\">\n",
        "\n",
        "\n",
        "Le but de cet exercice est de s'entraîner à faire une régression sur des données structurées à l'aide d'un réseau de neurones dense.\n",
        "\n",
        " Nous allons travailler avec la base de données **```insurance.csv```**, qui contient les informations personnelles de clients d'une assurance, ainsi que les charges qu'ils ont à payer.\n",
        "\n",
        "> La structure de l'exercice est la suivante :\n",
        ">> I - [Préparation du dataset](#preparation)\n",
        ">>\n",
        ">>\n",
        ">> II - [Régression linéaire multiple classique](#linear)\n",
        ">>\n",
        ">>\n",
        ">> III - [Régression à l'aide d'un réseau de neurones dense](#dnn)\n",
        ">>\n",
        ">>\n",
        ">> IV - [Comparaison des résultats obtenus avec les deux techniques](#comparaison)\n",
        "\n",
        "- Exécuter les cellules ci-dessous pour importer le dataset et les modules nécessaires à l'exercice."
      ]
    },
    {
      "cell_type": "code",
      "source": [],
      "metadata": {
        "id": "gEGbphGRpIl7"
      },
      "execution_count": null,
      "outputs": []
    },
    {
      "cell_type": "code",
      "metadata": {
        "id": "3wVUVEwI4mk7"
      },
      "source": [
        "!wget https://assets-datascientest.s3-eu-west-1.amazonaws.com/datasets/insurance.zip\n",
        "!unzip insurance.zip"
      ],
      "execution_count": null,
      "outputs": []
    },
    {
      "cell_type": "code",
      "metadata": {
        "id": "73FmOY-YCQcu"
      },
      "source": [
        "import pandas as pd\n",
        "import numpy as np\n",
        "import matplotlib.pyplot as plt\n",
        "%matplotlib inline\n",
        "\n",
        "from sklearn.model_selection import train_test_split\n",
        "from sklearn.preprocessing import MinMaxScaler\n",
        "\n",
        "from sklearn.linear_model import LinearRegression\n",
        "\n",
        "from tensorflow.keras import callbacks\n",
        "from tensorflow.keras import Sequential\n",
        "from tensorflow.keras.layers import Dense, Dropout\n",
        "\n",
        "from sklearn.metrics import r2_score"
      ],
      "execution_count": null,
      "outputs": []
    },
    {
      "cell_type": "markdown",
      "metadata": {
        "id": "zyvXSuU2CfXh"
      },
      "source": [
        "# <a name=\"preparation\"></a> I - Préparation du dataset\n",
        "\n",
        "- (a) Charger le jeu de données **```insurance.csv```** dans un DataFrame ```df```.\n",
        "\n",
        "- (b) Afficher la shape de ```df``` ainsi que ses 5 premières lignes."
      ]
    },
    {
      "cell_type": "code",
      "metadata": {
        "id": "yqLe6GRWa8C6"
      },
      "source": [],
      "execution_count": null,
      "outputs": []
    },
    {
      "cell_type": "markdown",
      "metadata": {
        "id": "_zLD6T6thK4P"
      },
      "source": [
        "- (c) Vérifier que les colonnes de ```df``` sont du bon type, et traiter les valeurs manquantes s'il y en a."
      ]
    },
    {
      "cell_type": "code",
      "metadata": {
        "id": "qynEsNcLa9kg"
      },
      "source": [],
      "execution_count": null,
      "outputs": []
    },
    {
      "cell_type": "markdown",
      "metadata": {
        "id": "1Z_-dQg6hZsE"
      },
      "source": [
        "- (d) Créer une visualisation pertinente pour chaque colonne de ```df```.\n",
        "\n",
        "- (e) Supprimer les colonnes qui ne vous semblent pas impacter les charges à payer."
      ]
    },
    {
      "cell_type": "code",
      "metadata": {
        "id": "vEYi8Dtpa_Ht"
      },
      "source": [],
      "execution_count": null,
      "outputs": []
    },
    {
      "cell_type": "markdown",
      "metadata": {
        "id": "FzqTQjegJloh"
      },
      "source": [
        "- (f) Finir de préparer les données.\n",
        "> Cette partie regroupe :\n",
        ">> - L'encodage des variables\n",
        ">>\n",
        ">>\n",
        ">> - la séparation des variables explicatives de la variable cible\n",
        ">>\n",
        ">>\n",
        ">> - La création d'un jeu de test et d'entraînement\n",
        ">>\n",
        ">>\n",
        ">> - Le scaling de ```X_train```, ```X_test``` **et de ```y_train```, ```y_test```**\n"
      ]
    },
    {
      "cell_type": "code",
      "metadata": {
        "id": "UdJX6KMDbAvA"
      },
      "source": [],
      "execution_count": null,
      "outputs": []
    },
    {
      "cell_type": "markdown",
      "metadata": {
        "id": "vZjn_KOfLEF_"
      },
      "source": [
        "# II - <a name=\"linear\"></a> Régression linéaire multiple classique\n",
        "\n",
        "- (a) Instancier un modèle de régression linéaire.\n",
        "\n",
        "- (b) Fit le modèle aux données d'entraînement.\n",
        "\n",
        "- (c) Effectuer une prédiction à partir des données de test (attention au scaling)."
      ]
    },
    {
      "cell_type": "code",
      "metadata": {
        "id": "O7dh9mq9bCwC"
      },
      "source": [],
      "execution_count": null,
      "outputs": []
    },
    {
      "cell_type": "markdown",
      "metadata": {
        "id": "TIy6-A3_LHSZ"
      },
      "source": [
        "# III - <a name=\"dnn\"></a> Régression à l'aide d'un réseau de neurones dense\n",
        "\n",
        "- (a) Instancier un réseau de neurones dense de l'architecture de votre choix (attention à la couche de sortie, il s'agit d'un problème de régression).\n",
        "\n",
        "- (b) Compiler le modèle avec une métrique appropriée.\n",
        "\n",
        "- (c) Entraîner le modèle avec les paramètres de votre choix. On pourra également définir des callbacks.\n",
        "\n",
        "- (d) Effectuer une prédiction à partir des données de test (attention au scaling)."
      ]
    },
    {
      "cell_type": "code",
      "metadata": {
        "id": "Apf-TRgPbD7O"
      },
      "source": [],
      "execution_count": null,
      "outputs": []
    },
    {
      "cell_type": "markdown",
      "metadata": {
        "id": "isWoT8v-ZtBM"
      },
      "source": [
        "# IV - <a name=\"comparaison\"></a> Comparaison des résultats obtenus avec les deux techniques\n",
        "\n",
        "- (a) Comparer les résultats obtenus avec les deux modèles (utiliser le ```r2_score``` par exemple)."
      ]
    },
    {
      "cell_type": "code",
      "metadata": {
        "id": "OjxTFuL9bF9L"
      },
      "source": [],
      "execution_count": null,
      "outputs": []
    }
  ]
}